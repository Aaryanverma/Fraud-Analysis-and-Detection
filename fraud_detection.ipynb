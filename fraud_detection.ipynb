{
  "nbformat": 4,
  "nbformat_minor": 0,
  "metadata": {
    "colab": {
      "name": "fraud_detection.ipynb",
      "provenance": [],
      "collapsed_sections": [],
      "authorship_tag": "ABX9TyNFxEJYux1Ljtqo4Nj/CHJ4"
    },
    "kernelspec": {
      "name": "python3",
      "display_name": "Python 3"
    },
    "accelerator": "GPU"
  },
  "cells": [
    {
      "cell_type": "code",
      "metadata": {
        "id": "eiXv9X1W17La"
      },
      "source": [
        "! pip install -q kaggle\n",
        "! mkdir /root/.kaggle\n",
        "! cp kaggle.json /root/.kaggle/\n",
        "! chmod 600 ~/.kaggle/kaggle.json"
      ],
      "execution_count": 1,
      "outputs": []
    },
    {
      "cell_type": "code",
      "metadata": {
        "id": "3GdR4hj52YIu",
        "colab": {
          "base_uri": "https://localhost:8080/"
        },
        "outputId": "0915486d-e25d-49d2-81fa-0b509c1f19b7"
      },
      "source": [
        "!kaggle datasets download -d mlg-ulb/creditcardfraud"
      ],
      "execution_count": 2,
      "outputs": [
        {
          "output_type": "stream",
          "name": "stdout",
          "text": [
            "Downloading creditcardfraud.zip to /content\n",
            " 97% 64.0M/66.0M [00:02<00:00, 22.0MB/s]\n",
            "100% 66.0M/66.0M [00:02<00:00, 29.8MB/s]\n"
          ]
        }
      ]
    },
    {
      "cell_type": "code",
      "metadata": {
        "id": "cpQXTyZU3Bm_",
        "colab": {
          "base_uri": "https://localhost:8080/"
        },
        "outputId": "51566724-ea87-4604-ac85-3f357b775427"
      },
      "source": [
        "!unzip creditcardfraud.zip"
      ],
      "execution_count": 3,
      "outputs": [
        {
          "output_type": "stream",
          "name": "stdout",
          "text": [
            "Archive:  creditcardfraud.zip\n",
            "  inflating: creditcard.csv          \n"
          ]
        }
      ]
    },
    {
      "cell_type": "code",
      "metadata": {
        "id": "dJgjHV9gSpfH"
      },
      "source": [
        "!pip install -q scikit-plot"
      ],
      "execution_count": 112,
      "outputs": []
    },
    {
      "cell_type": "code",
      "metadata": {
        "id": "V8zqjcu32brJ"
      },
      "source": [
        "import numpy as np\n",
        "import pandas as pd\n",
        "import tensorflow as tf\n",
        "import matplotlib.pyplot as plt\n",
        "import seaborn as sns\n",
        "import time\n",
        "\n",
        "from tensorflow.keras.layers import Dense\n",
        "from tensorflow.keras.models import Sequential\n",
        "\n",
        "from sklearn.linear_model import LogisticRegression\n",
        "from sklearn.ensemble import RandomForestClassifier\n",
        "from collections import Counter\n",
        "\n",
        "from sklearn.model_selection import train_test_split\n",
        "from imblearn.over_sampling import SMOTE\n",
        "from sklearn.metrics import confusion_matrix\n",
        "from sklearn.metrics import precision_score, recall_score, f1_score, roc_auc_score, accuracy_score, classification_report, plot_precision_recall_curve\n",
        "from sklearn.metrics import roc_auc_score\n",
        "import scikitplot as skplt\n",
        "import warnings\n",
        "warnings.filterwarnings(\"ignore\")"
      ],
      "execution_count": 113,
      "outputs": []
    },
    {
      "cell_type": "code",
      "metadata": {
        "id": "3okNhRjb2uDp",
        "colab": {
          "base_uri": "https://localhost:8080/",
          "height": 226
        },
        "outputId": "d0874c06-f272-4956-ffaf-9977d3a1691f"
      },
      "source": [
        "df = pd.read_csv('creditcard.csv')\n",
        "df.head()"
      ],
      "execution_count": 5,
      "outputs": [
        {
          "output_type": "execute_result",
          "data": {
            "text/html": [
              "<div>\n",
              "<style scoped>\n",
              "    .dataframe tbody tr th:only-of-type {\n",
              "        vertical-align: middle;\n",
              "    }\n",
              "\n",
              "    .dataframe tbody tr th {\n",
              "        vertical-align: top;\n",
              "    }\n",
              "\n",
              "    .dataframe thead th {\n",
              "        text-align: right;\n",
              "    }\n",
              "</style>\n",
              "<table border=\"1\" class=\"dataframe\">\n",
              "  <thead>\n",
              "    <tr style=\"text-align: right;\">\n",
              "      <th></th>\n",
              "      <th>Time</th>\n",
              "      <th>V1</th>\n",
              "      <th>V2</th>\n",
              "      <th>V3</th>\n",
              "      <th>V4</th>\n",
              "      <th>V5</th>\n",
              "      <th>V6</th>\n",
              "      <th>V7</th>\n",
              "      <th>V8</th>\n",
              "      <th>V9</th>\n",
              "      <th>V10</th>\n",
              "      <th>V11</th>\n",
              "      <th>V12</th>\n",
              "      <th>V13</th>\n",
              "      <th>V14</th>\n",
              "      <th>V15</th>\n",
              "      <th>V16</th>\n",
              "      <th>V17</th>\n",
              "      <th>V18</th>\n",
              "      <th>V19</th>\n",
              "      <th>V20</th>\n",
              "      <th>V21</th>\n",
              "      <th>V22</th>\n",
              "      <th>V23</th>\n",
              "      <th>V24</th>\n",
              "      <th>V25</th>\n",
              "      <th>V26</th>\n",
              "      <th>V27</th>\n",
              "      <th>V28</th>\n",
              "      <th>Amount</th>\n",
              "      <th>Class</th>\n",
              "    </tr>\n",
              "  </thead>\n",
              "  <tbody>\n",
              "    <tr>\n",
              "      <th>0</th>\n",
              "      <td>0.0</td>\n",
              "      <td>-1.359807</td>\n",
              "      <td>-0.072781</td>\n",
              "      <td>2.536347</td>\n",
              "      <td>1.378155</td>\n",
              "      <td>-0.338321</td>\n",
              "      <td>0.462388</td>\n",
              "      <td>0.239599</td>\n",
              "      <td>0.098698</td>\n",
              "      <td>0.363787</td>\n",
              "      <td>0.090794</td>\n",
              "      <td>-0.551600</td>\n",
              "      <td>-0.617801</td>\n",
              "      <td>-0.991390</td>\n",
              "      <td>-0.311169</td>\n",
              "      <td>1.468177</td>\n",
              "      <td>-0.470401</td>\n",
              "      <td>0.207971</td>\n",
              "      <td>0.025791</td>\n",
              "      <td>0.403993</td>\n",
              "      <td>0.251412</td>\n",
              "      <td>-0.018307</td>\n",
              "      <td>0.277838</td>\n",
              "      <td>-0.110474</td>\n",
              "      <td>0.066928</td>\n",
              "      <td>0.128539</td>\n",
              "      <td>-0.189115</td>\n",
              "      <td>0.133558</td>\n",
              "      <td>-0.021053</td>\n",
              "      <td>149.62</td>\n",
              "      <td>0</td>\n",
              "    </tr>\n",
              "    <tr>\n",
              "      <th>1</th>\n",
              "      <td>0.0</td>\n",
              "      <td>1.191857</td>\n",
              "      <td>0.266151</td>\n",
              "      <td>0.166480</td>\n",
              "      <td>0.448154</td>\n",
              "      <td>0.060018</td>\n",
              "      <td>-0.082361</td>\n",
              "      <td>-0.078803</td>\n",
              "      <td>0.085102</td>\n",
              "      <td>-0.255425</td>\n",
              "      <td>-0.166974</td>\n",
              "      <td>1.612727</td>\n",
              "      <td>1.065235</td>\n",
              "      <td>0.489095</td>\n",
              "      <td>-0.143772</td>\n",
              "      <td>0.635558</td>\n",
              "      <td>0.463917</td>\n",
              "      <td>-0.114805</td>\n",
              "      <td>-0.183361</td>\n",
              "      <td>-0.145783</td>\n",
              "      <td>-0.069083</td>\n",
              "      <td>-0.225775</td>\n",
              "      <td>-0.638672</td>\n",
              "      <td>0.101288</td>\n",
              "      <td>-0.339846</td>\n",
              "      <td>0.167170</td>\n",
              "      <td>0.125895</td>\n",
              "      <td>-0.008983</td>\n",
              "      <td>0.014724</td>\n",
              "      <td>2.69</td>\n",
              "      <td>0</td>\n",
              "    </tr>\n",
              "    <tr>\n",
              "      <th>2</th>\n",
              "      <td>1.0</td>\n",
              "      <td>-1.358354</td>\n",
              "      <td>-1.340163</td>\n",
              "      <td>1.773209</td>\n",
              "      <td>0.379780</td>\n",
              "      <td>-0.503198</td>\n",
              "      <td>1.800499</td>\n",
              "      <td>0.791461</td>\n",
              "      <td>0.247676</td>\n",
              "      <td>-1.514654</td>\n",
              "      <td>0.207643</td>\n",
              "      <td>0.624501</td>\n",
              "      <td>0.066084</td>\n",
              "      <td>0.717293</td>\n",
              "      <td>-0.165946</td>\n",
              "      <td>2.345865</td>\n",
              "      <td>-2.890083</td>\n",
              "      <td>1.109969</td>\n",
              "      <td>-0.121359</td>\n",
              "      <td>-2.261857</td>\n",
              "      <td>0.524980</td>\n",
              "      <td>0.247998</td>\n",
              "      <td>0.771679</td>\n",
              "      <td>0.909412</td>\n",
              "      <td>-0.689281</td>\n",
              "      <td>-0.327642</td>\n",
              "      <td>-0.139097</td>\n",
              "      <td>-0.055353</td>\n",
              "      <td>-0.059752</td>\n",
              "      <td>378.66</td>\n",
              "      <td>0</td>\n",
              "    </tr>\n",
              "    <tr>\n",
              "      <th>3</th>\n",
              "      <td>1.0</td>\n",
              "      <td>-0.966272</td>\n",
              "      <td>-0.185226</td>\n",
              "      <td>1.792993</td>\n",
              "      <td>-0.863291</td>\n",
              "      <td>-0.010309</td>\n",
              "      <td>1.247203</td>\n",
              "      <td>0.237609</td>\n",
              "      <td>0.377436</td>\n",
              "      <td>-1.387024</td>\n",
              "      <td>-0.054952</td>\n",
              "      <td>-0.226487</td>\n",
              "      <td>0.178228</td>\n",
              "      <td>0.507757</td>\n",
              "      <td>-0.287924</td>\n",
              "      <td>-0.631418</td>\n",
              "      <td>-1.059647</td>\n",
              "      <td>-0.684093</td>\n",
              "      <td>1.965775</td>\n",
              "      <td>-1.232622</td>\n",
              "      <td>-0.208038</td>\n",
              "      <td>-0.108300</td>\n",
              "      <td>0.005274</td>\n",
              "      <td>-0.190321</td>\n",
              "      <td>-1.175575</td>\n",
              "      <td>0.647376</td>\n",
              "      <td>-0.221929</td>\n",
              "      <td>0.062723</td>\n",
              "      <td>0.061458</td>\n",
              "      <td>123.50</td>\n",
              "      <td>0</td>\n",
              "    </tr>\n",
              "    <tr>\n",
              "      <th>4</th>\n",
              "      <td>2.0</td>\n",
              "      <td>-1.158233</td>\n",
              "      <td>0.877737</td>\n",
              "      <td>1.548718</td>\n",
              "      <td>0.403034</td>\n",
              "      <td>-0.407193</td>\n",
              "      <td>0.095921</td>\n",
              "      <td>0.592941</td>\n",
              "      <td>-0.270533</td>\n",
              "      <td>0.817739</td>\n",
              "      <td>0.753074</td>\n",
              "      <td>-0.822843</td>\n",
              "      <td>0.538196</td>\n",
              "      <td>1.345852</td>\n",
              "      <td>-1.119670</td>\n",
              "      <td>0.175121</td>\n",
              "      <td>-0.451449</td>\n",
              "      <td>-0.237033</td>\n",
              "      <td>-0.038195</td>\n",
              "      <td>0.803487</td>\n",
              "      <td>0.408542</td>\n",
              "      <td>-0.009431</td>\n",
              "      <td>0.798278</td>\n",
              "      <td>-0.137458</td>\n",
              "      <td>0.141267</td>\n",
              "      <td>-0.206010</td>\n",
              "      <td>0.502292</td>\n",
              "      <td>0.219422</td>\n",
              "      <td>0.215153</td>\n",
              "      <td>69.99</td>\n",
              "      <td>0</td>\n",
              "    </tr>\n",
              "  </tbody>\n",
              "</table>\n",
              "</div>"
            ],
            "text/plain": [
              "   Time        V1        V2        V3  ...       V27       V28  Amount  Class\n",
              "0   0.0 -1.359807 -0.072781  2.536347  ...  0.133558 -0.021053  149.62      0\n",
              "1   0.0  1.191857  0.266151  0.166480  ... -0.008983  0.014724    2.69      0\n",
              "2   1.0 -1.358354 -1.340163  1.773209  ... -0.055353 -0.059752  378.66      0\n",
              "3   1.0 -0.966272 -0.185226  1.792993  ...  0.062723  0.061458  123.50      0\n",
              "4   2.0 -1.158233  0.877737  1.548718  ...  0.219422  0.215153   69.99      0\n",
              "\n",
              "[5 rows x 31 columns]"
            ]
          },
          "metadata": {},
          "execution_count": 5
        }
      ]
    },
    {
      "cell_type": "markdown",
      "metadata": {
        "id": "e2YTfHG5LKeU"
      },
      "source": [
        "Checking for Missing Values"
      ]
    },
    {
      "cell_type": "code",
      "metadata": {
        "id": "Uk4hl67n3Geq",
        "colab": {
          "base_uri": "https://localhost:8080/"
        },
        "outputId": "fc8a65b7-41e2-458e-8cb6-5c73186612cc"
      },
      "source": [
        "df.isnull().sum().max()"
      ],
      "execution_count": 6,
      "outputs": [
        {
          "output_type": "execute_result",
          "data": {
            "text/plain": [
              "0"
            ]
          },
          "metadata": {},
          "execution_count": 6
        }
      ]
    },
    {
      "cell_type": "code",
      "metadata": {
        "id": "_U1EqT5K3LzG",
        "colab": {
          "base_uri": "https://localhost:8080/",
          "height": 320
        },
        "outputId": "9f887232-6539-4832-9deb-4164e312f435"
      },
      "source": [
        "df.describe()"
      ],
      "execution_count": 7,
      "outputs": [
        {
          "output_type": "execute_result",
          "data": {
            "text/html": [
              "<div>\n",
              "<style scoped>\n",
              "    .dataframe tbody tr th:only-of-type {\n",
              "        vertical-align: middle;\n",
              "    }\n",
              "\n",
              "    .dataframe tbody tr th {\n",
              "        vertical-align: top;\n",
              "    }\n",
              "\n",
              "    .dataframe thead th {\n",
              "        text-align: right;\n",
              "    }\n",
              "</style>\n",
              "<table border=\"1\" class=\"dataframe\">\n",
              "  <thead>\n",
              "    <tr style=\"text-align: right;\">\n",
              "      <th></th>\n",
              "      <th>Time</th>\n",
              "      <th>V1</th>\n",
              "      <th>V2</th>\n",
              "      <th>V3</th>\n",
              "      <th>V4</th>\n",
              "      <th>V5</th>\n",
              "      <th>V6</th>\n",
              "      <th>V7</th>\n",
              "      <th>V8</th>\n",
              "      <th>V9</th>\n",
              "      <th>V10</th>\n",
              "      <th>V11</th>\n",
              "      <th>V12</th>\n",
              "      <th>V13</th>\n",
              "      <th>V14</th>\n",
              "      <th>V15</th>\n",
              "      <th>V16</th>\n",
              "      <th>V17</th>\n",
              "      <th>V18</th>\n",
              "      <th>V19</th>\n",
              "      <th>V20</th>\n",
              "      <th>V21</th>\n",
              "      <th>V22</th>\n",
              "      <th>V23</th>\n",
              "      <th>V24</th>\n",
              "      <th>V25</th>\n",
              "      <th>V26</th>\n",
              "      <th>V27</th>\n",
              "      <th>V28</th>\n",
              "      <th>Amount</th>\n",
              "      <th>Class</th>\n",
              "    </tr>\n",
              "  </thead>\n",
              "  <tbody>\n",
              "    <tr>\n",
              "      <th>count</th>\n",
              "      <td>284807.000000</td>\n",
              "      <td>2.848070e+05</td>\n",
              "      <td>2.848070e+05</td>\n",
              "      <td>2.848070e+05</td>\n",
              "      <td>2.848070e+05</td>\n",
              "      <td>2.848070e+05</td>\n",
              "      <td>2.848070e+05</td>\n",
              "      <td>2.848070e+05</td>\n",
              "      <td>2.848070e+05</td>\n",
              "      <td>2.848070e+05</td>\n",
              "      <td>2.848070e+05</td>\n",
              "      <td>2.848070e+05</td>\n",
              "      <td>2.848070e+05</td>\n",
              "      <td>2.848070e+05</td>\n",
              "      <td>2.848070e+05</td>\n",
              "      <td>2.848070e+05</td>\n",
              "      <td>2.848070e+05</td>\n",
              "      <td>2.848070e+05</td>\n",
              "      <td>2.848070e+05</td>\n",
              "      <td>2.848070e+05</td>\n",
              "      <td>2.848070e+05</td>\n",
              "      <td>2.848070e+05</td>\n",
              "      <td>2.848070e+05</td>\n",
              "      <td>2.848070e+05</td>\n",
              "      <td>2.848070e+05</td>\n",
              "      <td>2.848070e+05</td>\n",
              "      <td>2.848070e+05</td>\n",
              "      <td>2.848070e+05</td>\n",
              "      <td>2.848070e+05</td>\n",
              "      <td>284807.000000</td>\n",
              "      <td>284807.000000</td>\n",
              "    </tr>\n",
              "    <tr>\n",
              "      <th>mean</th>\n",
              "      <td>94813.859575</td>\n",
              "      <td>3.919560e-15</td>\n",
              "      <td>5.688174e-16</td>\n",
              "      <td>-8.769071e-15</td>\n",
              "      <td>2.782312e-15</td>\n",
              "      <td>-1.552563e-15</td>\n",
              "      <td>2.010663e-15</td>\n",
              "      <td>-1.694249e-15</td>\n",
              "      <td>-1.927028e-16</td>\n",
              "      <td>-3.137024e-15</td>\n",
              "      <td>1.768627e-15</td>\n",
              "      <td>9.170318e-16</td>\n",
              "      <td>-1.810658e-15</td>\n",
              "      <td>1.693438e-15</td>\n",
              "      <td>1.479045e-15</td>\n",
              "      <td>3.482336e-15</td>\n",
              "      <td>1.392007e-15</td>\n",
              "      <td>-7.528491e-16</td>\n",
              "      <td>4.328772e-16</td>\n",
              "      <td>9.049732e-16</td>\n",
              "      <td>5.085503e-16</td>\n",
              "      <td>1.537294e-16</td>\n",
              "      <td>7.959909e-16</td>\n",
              "      <td>5.367590e-16</td>\n",
              "      <td>4.458112e-15</td>\n",
              "      <td>1.453003e-15</td>\n",
              "      <td>1.699104e-15</td>\n",
              "      <td>-3.660161e-16</td>\n",
              "      <td>-1.206049e-16</td>\n",
              "      <td>88.349619</td>\n",
              "      <td>0.001727</td>\n",
              "    </tr>\n",
              "    <tr>\n",
              "      <th>std</th>\n",
              "      <td>47488.145955</td>\n",
              "      <td>1.958696e+00</td>\n",
              "      <td>1.651309e+00</td>\n",
              "      <td>1.516255e+00</td>\n",
              "      <td>1.415869e+00</td>\n",
              "      <td>1.380247e+00</td>\n",
              "      <td>1.332271e+00</td>\n",
              "      <td>1.237094e+00</td>\n",
              "      <td>1.194353e+00</td>\n",
              "      <td>1.098632e+00</td>\n",
              "      <td>1.088850e+00</td>\n",
              "      <td>1.020713e+00</td>\n",
              "      <td>9.992014e-01</td>\n",
              "      <td>9.952742e-01</td>\n",
              "      <td>9.585956e-01</td>\n",
              "      <td>9.153160e-01</td>\n",
              "      <td>8.762529e-01</td>\n",
              "      <td>8.493371e-01</td>\n",
              "      <td>8.381762e-01</td>\n",
              "      <td>8.140405e-01</td>\n",
              "      <td>7.709250e-01</td>\n",
              "      <td>7.345240e-01</td>\n",
              "      <td>7.257016e-01</td>\n",
              "      <td>6.244603e-01</td>\n",
              "      <td>6.056471e-01</td>\n",
              "      <td>5.212781e-01</td>\n",
              "      <td>4.822270e-01</td>\n",
              "      <td>4.036325e-01</td>\n",
              "      <td>3.300833e-01</td>\n",
              "      <td>250.120109</td>\n",
              "      <td>0.041527</td>\n",
              "    </tr>\n",
              "    <tr>\n",
              "      <th>min</th>\n",
              "      <td>0.000000</td>\n",
              "      <td>-5.640751e+01</td>\n",
              "      <td>-7.271573e+01</td>\n",
              "      <td>-4.832559e+01</td>\n",
              "      <td>-5.683171e+00</td>\n",
              "      <td>-1.137433e+02</td>\n",
              "      <td>-2.616051e+01</td>\n",
              "      <td>-4.355724e+01</td>\n",
              "      <td>-7.321672e+01</td>\n",
              "      <td>-1.343407e+01</td>\n",
              "      <td>-2.458826e+01</td>\n",
              "      <td>-4.797473e+00</td>\n",
              "      <td>-1.868371e+01</td>\n",
              "      <td>-5.791881e+00</td>\n",
              "      <td>-1.921433e+01</td>\n",
              "      <td>-4.498945e+00</td>\n",
              "      <td>-1.412985e+01</td>\n",
              "      <td>-2.516280e+01</td>\n",
              "      <td>-9.498746e+00</td>\n",
              "      <td>-7.213527e+00</td>\n",
              "      <td>-5.449772e+01</td>\n",
              "      <td>-3.483038e+01</td>\n",
              "      <td>-1.093314e+01</td>\n",
              "      <td>-4.480774e+01</td>\n",
              "      <td>-2.836627e+00</td>\n",
              "      <td>-1.029540e+01</td>\n",
              "      <td>-2.604551e+00</td>\n",
              "      <td>-2.256568e+01</td>\n",
              "      <td>-1.543008e+01</td>\n",
              "      <td>0.000000</td>\n",
              "      <td>0.000000</td>\n",
              "    </tr>\n",
              "    <tr>\n",
              "      <th>25%</th>\n",
              "      <td>54201.500000</td>\n",
              "      <td>-9.203734e-01</td>\n",
              "      <td>-5.985499e-01</td>\n",
              "      <td>-8.903648e-01</td>\n",
              "      <td>-8.486401e-01</td>\n",
              "      <td>-6.915971e-01</td>\n",
              "      <td>-7.682956e-01</td>\n",
              "      <td>-5.540759e-01</td>\n",
              "      <td>-2.086297e-01</td>\n",
              "      <td>-6.430976e-01</td>\n",
              "      <td>-5.354257e-01</td>\n",
              "      <td>-7.624942e-01</td>\n",
              "      <td>-4.055715e-01</td>\n",
              "      <td>-6.485393e-01</td>\n",
              "      <td>-4.255740e-01</td>\n",
              "      <td>-5.828843e-01</td>\n",
              "      <td>-4.680368e-01</td>\n",
              "      <td>-4.837483e-01</td>\n",
              "      <td>-4.988498e-01</td>\n",
              "      <td>-4.562989e-01</td>\n",
              "      <td>-2.117214e-01</td>\n",
              "      <td>-2.283949e-01</td>\n",
              "      <td>-5.423504e-01</td>\n",
              "      <td>-1.618463e-01</td>\n",
              "      <td>-3.545861e-01</td>\n",
              "      <td>-3.171451e-01</td>\n",
              "      <td>-3.269839e-01</td>\n",
              "      <td>-7.083953e-02</td>\n",
              "      <td>-5.295979e-02</td>\n",
              "      <td>5.600000</td>\n",
              "      <td>0.000000</td>\n",
              "    </tr>\n",
              "    <tr>\n",
              "      <th>50%</th>\n",
              "      <td>84692.000000</td>\n",
              "      <td>1.810880e-02</td>\n",
              "      <td>6.548556e-02</td>\n",
              "      <td>1.798463e-01</td>\n",
              "      <td>-1.984653e-02</td>\n",
              "      <td>-5.433583e-02</td>\n",
              "      <td>-2.741871e-01</td>\n",
              "      <td>4.010308e-02</td>\n",
              "      <td>2.235804e-02</td>\n",
              "      <td>-5.142873e-02</td>\n",
              "      <td>-9.291738e-02</td>\n",
              "      <td>-3.275735e-02</td>\n",
              "      <td>1.400326e-01</td>\n",
              "      <td>-1.356806e-02</td>\n",
              "      <td>5.060132e-02</td>\n",
              "      <td>4.807155e-02</td>\n",
              "      <td>6.641332e-02</td>\n",
              "      <td>-6.567575e-02</td>\n",
              "      <td>-3.636312e-03</td>\n",
              "      <td>3.734823e-03</td>\n",
              "      <td>-6.248109e-02</td>\n",
              "      <td>-2.945017e-02</td>\n",
              "      <td>6.781943e-03</td>\n",
              "      <td>-1.119293e-02</td>\n",
              "      <td>4.097606e-02</td>\n",
              "      <td>1.659350e-02</td>\n",
              "      <td>-5.213911e-02</td>\n",
              "      <td>1.342146e-03</td>\n",
              "      <td>1.124383e-02</td>\n",
              "      <td>22.000000</td>\n",
              "      <td>0.000000</td>\n",
              "    </tr>\n",
              "    <tr>\n",
              "      <th>75%</th>\n",
              "      <td>139320.500000</td>\n",
              "      <td>1.315642e+00</td>\n",
              "      <td>8.037239e-01</td>\n",
              "      <td>1.027196e+00</td>\n",
              "      <td>7.433413e-01</td>\n",
              "      <td>6.119264e-01</td>\n",
              "      <td>3.985649e-01</td>\n",
              "      <td>5.704361e-01</td>\n",
              "      <td>3.273459e-01</td>\n",
              "      <td>5.971390e-01</td>\n",
              "      <td>4.539234e-01</td>\n",
              "      <td>7.395934e-01</td>\n",
              "      <td>6.182380e-01</td>\n",
              "      <td>6.625050e-01</td>\n",
              "      <td>4.931498e-01</td>\n",
              "      <td>6.488208e-01</td>\n",
              "      <td>5.232963e-01</td>\n",
              "      <td>3.996750e-01</td>\n",
              "      <td>5.008067e-01</td>\n",
              "      <td>4.589494e-01</td>\n",
              "      <td>1.330408e-01</td>\n",
              "      <td>1.863772e-01</td>\n",
              "      <td>5.285536e-01</td>\n",
              "      <td>1.476421e-01</td>\n",
              "      <td>4.395266e-01</td>\n",
              "      <td>3.507156e-01</td>\n",
              "      <td>2.409522e-01</td>\n",
              "      <td>9.104512e-02</td>\n",
              "      <td>7.827995e-02</td>\n",
              "      <td>77.165000</td>\n",
              "      <td>0.000000</td>\n",
              "    </tr>\n",
              "    <tr>\n",
              "      <th>max</th>\n",
              "      <td>172792.000000</td>\n",
              "      <td>2.454930e+00</td>\n",
              "      <td>2.205773e+01</td>\n",
              "      <td>9.382558e+00</td>\n",
              "      <td>1.687534e+01</td>\n",
              "      <td>3.480167e+01</td>\n",
              "      <td>7.330163e+01</td>\n",
              "      <td>1.205895e+02</td>\n",
              "      <td>2.000721e+01</td>\n",
              "      <td>1.559499e+01</td>\n",
              "      <td>2.374514e+01</td>\n",
              "      <td>1.201891e+01</td>\n",
              "      <td>7.848392e+00</td>\n",
              "      <td>7.126883e+00</td>\n",
              "      <td>1.052677e+01</td>\n",
              "      <td>8.877742e+00</td>\n",
              "      <td>1.731511e+01</td>\n",
              "      <td>9.253526e+00</td>\n",
              "      <td>5.041069e+00</td>\n",
              "      <td>5.591971e+00</td>\n",
              "      <td>3.942090e+01</td>\n",
              "      <td>2.720284e+01</td>\n",
              "      <td>1.050309e+01</td>\n",
              "      <td>2.252841e+01</td>\n",
              "      <td>4.584549e+00</td>\n",
              "      <td>7.519589e+00</td>\n",
              "      <td>3.517346e+00</td>\n",
              "      <td>3.161220e+01</td>\n",
              "      <td>3.384781e+01</td>\n",
              "      <td>25691.160000</td>\n",
              "      <td>1.000000</td>\n",
              "    </tr>\n",
              "  </tbody>\n",
              "</table>\n",
              "</div>"
            ],
            "text/plain": [
              "                Time            V1  ...         Amount          Class\n",
              "count  284807.000000  2.848070e+05  ...  284807.000000  284807.000000\n",
              "mean    94813.859575  3.919560e-15  ...      88.349619       0.001727\n",
              "std     47488.145955  1.958696e+00  ...     250.120109       0.041527\n",
              "min         0.000000 -5.640751e+01  ...       0.000000       0.000000\n",
              "25%     54201.500000 -9.203734e-01  ...       5.600000       0.000000\n",
              "50%     84692.000000  1.810880e-02  ...      22.000000       0.000000\n",
              "75%    139320.500000  1.315642e+00  ...      77.165000       0.000000\n",
              "max    172792.000000  2.454930e+00  ...   25691.160000       1.000000\n",
              "\n",
              "[8 rows x 31 columns]"
            ]
          },
          "metadata": {},
          "execution_count": 7
        }
      ]
    },
    {
      "cell_type": "code",
      "metadata": {
        "id": "vAsqAC7M3Q6Y",
        "colab": {
          "base_uri": "https://localhost:8080/"
        },
        "outputId": "75b74b4b-3571-4f22-990e-93f743a5a7e6"
      },
      "source": [
        "print('Not Fraud:', round(df['Class'].value_counts()[0]))\n",
        "print('Fraud:', round(df['Class'].value_counts()[1]))"
      ],
      "execution_count": 8,
      "outputs": [
        {
          "output_type": "stream",
          "name": "stdout",
          "text": [
            "Not Fraud: 284315\n",
            "Fraud: 492\n"
          ]
        }
      ]
    },
    {
      "cell_type": "code",
      "metadata": {
        "id": "jbpce-EN3h16",
        "colab": {
          "base_uri": "https://localhost:8080/",
          "height": 297
        },
        "outputId": "79bda8dd-54db-4df1-9fad-dc3c54b4d982"
      },
      "source": [
        "sns.countplot('Class', data=df)"
      ],
      "execution_count": 9,
      "outputs": [
        {
          "output_type": "execute_result",
          "data": {
            "text/plain": [
              "<matplotlib.axes._subplots.AxesSubplot at 0x7f706a360f50>"
            ]
          },
          "metadata": {},
          "execution_count": 9
        },
        {
          "output_type": "display_data",
          "data": {
            "image/png": "[encoded data removed]",
            "text/plain": [
              "<Figure size 432x288 with 1 Axes>"
            ]
          },
          "metadata": {
            "needs_background": "light"
          }
        }
      ]
    },
    {
      "cell_type": "markdown",
      "metadata": {
        "id": "4Tl1kOAeLOdQ"
      },
      "source": [
        "From above plot, we can see Class Column is imbalanced"
      ]
    },
    {
      "cell_type": "markdown",
      "metadata": {
        "id": "YTJAktPVLYY9"
      },
      "source": [
        "Scaling Data"
      ]
    },
    {
      "cell_type": "code",
      "metadata": {
        "id": "LasoZVbj3xg5"
      },
      "source": [
        "from sklearn.preprocessing import RobustScaler"
      ],
      "execution_count": 10,
      "outputs": []
    },
    {
      "cell_type": "markdown",
      "metadata": {
        "id": "QBlr2KvVLbdM"
      },
      "source": [
        "Robust Scaler is less prone to overfitting"
      ]
    },
    {
      "cell_type": "code",
      "metadata": {
        "id": "CphY7Qox37SP"
      },
      "source": [
        "rob_scaler = RobustScaler()\n",
        "\n",
        "df['scaled_amount'] = rob_scaler.fit_transform(df['Amount'].values.reshape(-1,1))\n",
        "\n",
        "df.drop(['Time','Amount'], axis=1, inplace=True)"
      ],
      "execution_count": 11,
      "outputs": []
    },
    {
      "cell_type": "code",
      "metadata": {
        "id": "5HLGrMKG4CYW",
        "colab": {
          "base_uri": "https://localhost:8080/",
          "height": 226
        },
        "outputId": "ff1bb067-0fd9-4e77-ab16-f4e9ff22a240"
      },
      "source": [
        "scaled_amount = df['scaled_amount']\n",
        "\n",
        "df.drop(['scaled_amount'], axis=1, inplace=True)\n",
        "df.insert(0, 'scaled_amount', scaled_amount)\n",
        "df.head()"
      ],
      "execution_count": 12,
      "outputs": [
        {
          "output_type": "execute_result",
          "data": {
            "text/html": [
              "<div>\n",
              "<style scoped>\n",
              "    .dataframe tbody tr th:only-of-type {\n",
              "        vertical-align: middle;\n",
              "    }\n",
              "\n",
              "    .dataframe tbody tr th {\n",
              "        vertical-align: top;\n",
              "    }\n",
              "\n",
              "    .dataframe thead th {\n",
              "        text-align: right;\n",
              "    }\n",
              "</style>\n",
              "<table border=\"1\" class=\"dataframe\">\n",
              "  <thead>\n",
              "    <tr style=\"text-align: right;\">\n",
              "      <th></th>\n",
              "      <th>scaled_amount</th>\n",
              "      <th>V1</th>\n",
              "      <th>V2</th>\n",
              "      <th>V3</th>\n",
              "      <th>V4</th>\n",
              "      <th>V5</th>\n",
              "      <th>V6</th>\n",
              "      <th>V7</th>\n",
              "      <th>V8</th>\n",
              "      <th>V9</th>\n",
              "      <th>V10</th>\n",
              "      <th>V11</th>\n",
              "      <th>V12</th>\n",
              "      <th>V13</th>\n",
              "      <th>V14</th>\n",
              "      <th>V15</th>\n",
              "      <th>V16</th>\n",
              "      <th>V17</th>\n",
              "      <th>V18</th>\n",
              "      <th>V19</th>\n",
              "      <th>V20</th>\n",
              "      <th>V21</th>\n",
              "      <th>V22</th>\n",
              "      <th>V23</th>\n",
              "      <th>V24</th>\n",
              "      <th>V25</th>\n",
              "      <th>V26</th>\n",
              "      <th>V27</th>\n",
              "      <th>V28</th>\n",
              "      <th>Class</th>\n",
              "    </tr>\n",
              "  </thead>\n",
              "  <tbody>\n",
              "    <tr>\n",
              "      <th>0</th>\n",
              "      <td>1.783274</td>\n",
              "      <td>-1.359807</td>\n",
              "      <td>-0.072781</td>\n",
              "      <td>2.536347</td>\n",
              "      <td>1.378155</td>\n",
              "      <td>-0.338321</td>\n",
              "      <td>0.462388</td>\n",
              "      <td>0.239599</td>\n",
              "      <td>0.098698</td>\n",
              "      <td>0.363787</td>\n",
              "      <td>0.090794</td>\n",
              "      <td>-0.551600</td>\n",
              "      <td>-0.617801</td>\n",
              "      <td>-0.991390</td>\n",
              "      <td>-0.311169</td>\n",
              "      <td>1.468177</td>\n",
              "      <td>-0.470401</td>\n",
              "      <td>0.207971</td>\n",
              "      <td>0.025791</td>\n",
              "      <td>0.403993</td>\n",
              "      <td>0.251412</td>\n",
              "      <td>-0.018307</td>\n",
              "      <td>0.277838</td>\n",
              "      <td>-0.110474</td>\n",
              "      <td>0.066928</td>\n",
              "      <td>0.128539</td>\n",
              "      <td>-0.189115</td>\n",
              "      <td>0.133558</td>\n",
              "      <td>-0.021053</td>\n",
              "      <td>0</td>\n",
              "    </tr>\n",
              "    <tr>\n",
              "      <th>1</th>\n",
              "      <td>-0.269825</td>\n",
              "      <td>1.191857</td>\n",
              "      <td>0.266151</td>\n",
              "      <td>0.166480</td>\n",
              "      <td>0.448154</td>\n",
              "      <td>0.060018</td>\n",
              "      <td>-0.082361</td>\n",
              "      <td>-0.078803</td>\n",
              "      <td>0.085102</td>\n",
              "      <td>-0.255425</td>\n",
              "      <td>-0.166974</td>\n",
              "      <td>1.612727</td>\n",
              "      <td>1.065235</td>\n",
              "      <td>0.489095</td>\n",
              "      <td>-0.143772</td>\n",
              "      <td>0.635558</td>\n",
              "      <td>0.463917</td>\n",
              "      <td>-0.114805</td>\n",
              "      <td>-0.183361</td>\n",
              "      <td>-0.145783</td>\n",
              "      <td>-0.069083</td>\n",
              "      <td>-0.225775</td>\n",
              "      <td>-0.638672</td>\n",
              "      <td>0.101288</td>\n",
              "      <td>-0.339846</td>\n",
              "      <td>0.167170</td>\n",
              "      <td>0.125895</td>\n",
              "      <td>-0.008983</td>\n",
              "      <td>0.014724</td>\n",
              "      <td>0</td>\n",
              "    </tr>\n",
              "    <tr>\n",
              "      <th>2</th>\n",
              "      <td>4.983721</td>\n",
              "      <td>-1.358354</td>\n",
              "      <td>-1.340163</td>\n",
              "      <td>1.773209</td>\n",
              "      <td>0.379780</td>\n",
              "      <td>-0.503198</td>\n",
              "      <td>1.800499</td>\n",
              "      <td>0.791461</td>\n",
              "      <td>0.247676</td>\n",
              "      <td>-1.514654</td>\n",
              "      <td>0.207643</td>\n",
              "      <td>0.624501</td>\n",
              "      <td>0.066084</td>\n",
              "      <td>0.717293</td>\n",
              "      <td>-0.165946</td>\n",
              "      <td>2.345865</td>\n",
              "      <td>-2.890083</td>\n",
              "      <td>1.109969</td>\n",
              "      <td>-0.121359</td>\n",
              "      <td>-2.261857</td>\n",
              "      <td>0.524980</td>\n",
              "      <td>0.247998</td>\n",
              "      <td>0.771679</td>\n",
              "      <td>0.909412</td>\n",
              "      <td>-0.689281</td>\n",
              "      <td>-0.327642</td>\n",
              "      <td>-0.139097</td>\n",
              "      <td>-0.055353</td>\n",
              "      <td>-0.059752</td>\n",
              "      <td>0</td>\n",
              "    </tr>\n",
              "    <tr>\n",
              "      <th>3</th>\n",
              "      <td>1.418291</td>\n",
              "      <td>-0.966272</td>\n",
              "      <td>-0.185226</td>\n",
              "      <td>1.792993</td>\n",
              "      <td>-0.863291</td>\n",
              "      <td>-0.010309</td>\n",
              "      <td>1.247203</td>\n",
              "      <td>0.237609</td>\n",
              "      <td>0.377436</td>\n",
              "      <td>-1.387024</td>\n",
              "      <td>-0.054952</td>\n",
              "      <td>-0.226487</td>\n",
              "      <td>0.178228</td>\n",
              "      <td>0.507757</td>\n",
              "      <td>-0.287924</td>\n",
              "      <td>-0.631418</td>\n",
              "      <td>-1.059647</td>\n",
              "      <td>-0.684093</td>\n",
              "      <td>1.965775</td>\n",
              "      <td>-1.232622</td>\n",
              "      <td>-0.208038</td>\n",
              "      <td>-0.108300</td>\n",
              "      <td>0.005274</td>\n",
              "      <td>-0.190321</td>\n",
              "      <td>-1.175575</td>\n",
              "      <td>0.647376</td>\n",
              "      <td>-0.221929</td>\n",
              "      <td>0.062723</td>\n",
              "      <td>0.061458</td>\n",
              "      <td>0</td>\n",
              "    </tr>\n",
              "    <tr>\n",
              "      <th>4</th>\n",
              "      <td>0.670579</td>\n",
              "      <td>-1.158233</td>\n",
              "      <td>0.877737</td>\n",
              "      <td>1.548718</td>\n",
              "      <td>0.403034</td>\n",
              "      <td>-0.407193</td>\n",
              "      <td>0.095921</td>\n",
              "      <td>0.592941</td>\n",
              "      <td>-0.270533</td>\n",
              "      <td>0.817739</td>\n",
              "      <td>0.753074</td>\n",
              "      <td>-0.822843</td>\n",
              "      <td>0.538196</td>\n",
              "      <td>1.345852</td>\n",
              "      <td>-1.119670</td>\n",
              "      <td>0.175121</td>\n",
              "      <td>-0.451449</td>\n",
              "      <td>-0.237033</td>\n",
              "      <td>-0.038195</td>\n",
              "      <td>0.803487</td>\n",
              "      <td>0.408542</td>\n",
              "      <td>-0.009431</td>\n",
              "      <td>0.798278</td>\n",
              "      <td>-0.137458</td>\n",
              "      <td>0.141267</td>\n",
              "      <td>-0.206010</td>\n",
              "      <td>0.502292</td>\n",
              "      <td>0.219422</td>\n",
              "      <td>0.215153</td>\n",
              "      <td>0</td>\n",
              "    </tr>\n",
              "  </tbody>\n",
              "</table>\n",
              "</div>"
            ],
            "text/plain": [
              "   scaled_amount        V1        V2  ...       V27       V28  Class\n",
              "0       1.783274 -1.359807 -0.072781  ...  0.133558 -0.021053      0\n",
              "1      -0.269825  1.191857  0.266151  ... -0.008983  0.014724      0\n",
              "2       4.983721 -1.358354 -1.340163  ... -0.055353 -0.059752      0\n",
              "3       1.418291 -0.966272 -0.185226  ...  0.062723  0.061458      0\n",
              "4       0.670579 -1.158233  0.877737  ...  0.219422  0.215153      0\n",
              "\n",
              "[5 rows x 30 columns]"
            ]
          },
          "metadata": {},
          "execution_count": 12
        }
      ]
    },
    {
      "cell_type": "code",
      "metadata": {
        "id": "bsH__0134JGD"
      },
      "source": [
        "X = df.iloc[:,:-1]\n",
        "y = df['Class']"
      ],
      "execution_count": 13,
      "outputs": []
    },
    {
      "cell_type": "markdown",
      "metadata": {
        "id": "ljt2S9ChdPkb"
      },
      "source": [
        "**Technique 1:** Training without resampling dataset."
      ]
    },
    {
      "cell_type": "code",
      "metadata": {
        "id": "x3fxzBpY4nEA"
      },
      "source": [
        "X_train, X_test, y_train, y_test = train_test_split(X, y, test_size=0.2, random_state=42, stratify=y)"
      ],
      "execution_count": 132,
      "outputs": []
    },
    {
      "cell_type": "markdown",
      "metadata": {
        "id": "Q5iR15XQLvzo"
      },
      "source": [
        "Using Logistic Regression because Class column is binary"
      ]
    },
    {
      "cell_type": "code",
      "metadata": {
        "id": "WtqtvH3M5Ff8"
      },
      "source": [
        "lr= LogisticRegression(C=1.0,penalty='l2',class_weight=\"balanced\",n_jobs=-1)"
      ],
      "execution_count": 133,
      "outputs": []
    },
    {
      "cell_type": "code",
      "metadata": {
        "id": "r0qnNN7o6-Af",
        "colab": {
          "base_uri": "https://localhost:8080/"
        },
        "outputId": "76787c18-8074-4baa-e0d7-90bd740800ef"
      },
      "source": [
        "lr.fit(X_train,y_train)"
      ],
      "execution_count": 134,
      "outputs": [
        {
          "output_type": "execute_result",
          "data": {
            "text/plain": [
              "LogisticRegression(class_weight='balanced', n_jobs=-1)"
            ]
          },
          "metadata": {},
          "execution_count": 134
        }
      ]
    },
    {
      "cell_type": "code",
      "metadata": {
        "id": "LX-J5E0j7NH8"
      },
      "source": [
        "labels = ['Not Fraud', 'Fraud']\n",
        "prediction = lr.predict(X_test)"
      ],
      "execution_count": 135,
      "outputs": []
    },
    {
      "cell_type": "code",
      "metadata": {
        "id": "JjQT6j83VBgg"
      },
      "source": [
        "y_proba = lr.predict_proba(X_test)"
      ],
      "execution_count": 140,
      "outputs": []
    },
    {
      "cell_type": "code",
      "metadata": {
        "id": "8BtslNSuJT-Y",
        "colab": {
          "base_uri": "https://localhost:8080/"
        },
        "outputId": "77f92974-f9d9-4eb6-fc84-77729fb1ebdf"
      },
      "source": [
        "print(\"Accuracy Score for Logistic Regression is {0:.2f} %\".format(accuracy_score(y_test, prediction)*100))"
      ],
      "execution_count": 136,
      "outputs": [
        {
          "output_type": "stream",
          "name": "stdout",
          "text": [
            "Accuracy Score for Logistic Regression is 97.45 %\n"
          ]
        }
      ]
    },
    {
      "cell_type": "code",
      "metadata": {
        "id": "IlR5BJpq7ch9",
        "colab": {
          "base_uri": "https://localhost:8080/"
        },
        "outputId": "b06e078d-88e7-4b7e-c874-76abf9e7b0b1"
      },
      "source": [
        "print(classification_report(y_test, prediction, target_names=labels))"
      ],
      "execution_count": 137,
      "outputs": [
        {
          "output_type": "stream",
          "name": "stdout",
          "text": [
            "              precision    recall  f1-score   support\n",
            "\n",
            "   Not Fraud       1.00      0.97      0.99     56864\n",
            "       Fraud       0.06      0.92      0.11        98\n",
            "\n",
            "    accuracy                           0.97     56962\n",
            "   macro avg       0.53      0.95      0.55     56962\n",
            "weighted avg       1.00      0.97      0.99     56962\n",
            "\n"
          ]
        }
      ]
    },
    {
      "cell_type": "code",
      "metadata": {
        "id": "r59RIdWU76Q0"
      },
      "source": [
        "cf = confusion_matrix(y_test, prediction)"
      ],
      "execution_count": 138,
      "outputs": []
    },
    {
      "cell_type": "code",
      "metadata": {
        "id": "z8PZI296Ck2l",
        "colab": {
          "base_uri": "https://localhost:8080/",
          "height": 283
        },
        "outputId": "2e80b3e2-c73e-4009-c3ba-d2b179e58490"
      },
      "source": [
        "sns.heatmap(cf,annot=True,fmt='d')"
      ],
      "execution_count": 139,
      "outputs": [
        {
          "output_type": "execute_result",
          "data": {
            "text/plain": [
              "<matplotlib.axes._subplots.AxesSubplot at 0x7f6f6ad12650>"
            ]
          },
          "metadata": {},
          "execution_count": 139
        },
        {
          "output_type": "display_data",
          "data": {
            "image/png": "[encoded data removed]",
            "text/plain": [
              "<Figure size 432x288 with 2 Axes>"
            ]
          },
          "metadata": {
            "needs_background": "light"
          }
        }
      ]
    },
    {
      "cell_type": "code",
      "metadata": {
        "colab": {
          "base_uri": "https://localhost:8080/",
          "height": 313
        },
        "id": "92T4lvhyU_Pm",
        "outputId": "04d981c9-a3a7-4aef-d5fa-2282570439bf"
      },
      "source": [
        "skplt.metrics.plot_precision_recall(y_test, y_proba)"
      ],
      "execution_count": 141,
      "outputs": [
        {
          "output_type": "execute_result",
          "data": {
            "text/plain": [
              "<matplotlib.axes._subplots.AxesSubplot at 0x7f6f6acbba90>"
            ]
          },
          "metadata": {},
          "execution_count": 141
        },
        {
          "output_type": "display_data",
          "data": {
            "image/png": "[encoded data removed]",
            "text/plain": [
              "<Figure size 432x288 with 1 Axes>"
            ]
          },
          "metadata": {
            "needs_background": "light"
          }
        }
      ]
    },
    {
      "cell_type": "markdown",
      "metadata": {
        "id": "Vnbs9cZ5MG0F"
      },
      "source": [
        "Trying Random Forest Classifier"
      ]
    },
    {
      "cell_type": "code",
      "metadata": {
        "id": "yyMC5rn1C1mk"
      },
      "source": [
        "rfc = RandomForestClassifier(class_weight=\"balanced\",n_jobs=-1) \n",
        "rfc.fit(X_train, y_train) \n",
        "y_pred = rfc.predict(X_test)"
      ],
      "execution_count": 142,
      "outputs": []
    },
    {
      "cell_type": "code",
      "metadata": {
        "id": "r2eByLhDVhMp"
      },
      "source": [
        "y_proba = rfc.predict_proba(X_test)"
      ],
      "execution_count": 147,
      "outputs": []
    },
    {
      "cell_type": "code",
      "metadata": {
        "id": "jDKdbKHLJL31",
        "colab": {
          "base_uri": "https://localhost:8080/"
        },
        "outputId": "673193ef-46f7-4fc4-d4f7-2057821c4c69"
      },
      "source": [
        "print(\"Accuracy Score for Random Forest is {0:.2f} %\".format(accuracy_score(y_test, y_pred)*100))"
      ],
      "execution_count": 143,
      "outputs": [
        {
          "output_type": "stream",
          "name": "stdout",
          "text": [
            "Accuracy Score for Random Forest is 99.95 %\n"
          ]
        }
      ]
    },
    {
      "cell_type": "code",
      "metadata": {
        "id": "zwumODKmG1fL",
        "colab": {
          "base_uri": "https://localhost:8080/"
        },
        "outputId": "b070df13-bd47-429b-e962-6422c74be763"
      },
      "source": [
        "print(classification_report(y_test, y_pred, target_names=labels))"
      ],
      "execution_count": 144,
      "outputs": [
        {
          "output_type": "stream",
          "name": "stdout",
          "text": [
            "              precision    recall  f1-score   support\n",
            "\n",
            "   Not Fraud       1.00      1.00      1.00     56864\n",
            "       Fraud       0.96      0.74      0.84        98\n",
            "\n",
            "    accuracy                           1.00     56962\n",
            "   macro avg       0.98      0.87      0.92     56962\n",
            "weighted avg       1.00      1.00      1.00     56962\n",
            "\n"
          ]
        }
      ]
    },
    {
      "cell_type": "code",
      "metadata": {
        "id": "p1tD0GTMI-Zl"
      },
      "source": [
        "cf2 = confusion_matrix(y_test, y_pred)"
      ],
      "execution_count": 145,
      "outputs": []
    },
    {
      "cell_type": "code",
      "metadata": {
        "id": "pyKXz7Q9JHjY",
        "colab": {
          "base_uri": "https://localhost:8080/",
          "height": 283
        },
        "outputId": "ce7d1cda-b394-4bd5-bca7-8f306a4c3038"
      },
      "source": [
        "sns.heatmap(cf2,annot=True,fmt='d')"
      ],
      "execution_count": 146,
      "outputs": [
        {
          "output_type": "execute_result",
          "data": {
            "text/plain": [
              "<matplotlib.axes._subplots.AxesSubplot at 0x7f6fe7b86550>"
            ]
          },
          "metadata": {},
          "execution_count": 146
        },
        {
          "output_type": "display_data",
          "data": {
            "image/png": "[encoded data removed]",
            "text/plain": [
              "<Figure size 432x288 with 2 Axes>"
            ]
          },
          "metadata": {
            "needs_background": "light"
          }
        }
      ]
    },
    {
      "cell_type": "code",
      "metadata": {
        "colab": {
          "base_uri": "https://localhost:8080/",
          "height": 313
        },
        "id": "qB4mhD55UvhG",
        "outputId": "b43a58e3-2bad-4a02-a813-55f152e3146b"
      },
      "source": [
        "skplt.metrics.plot_precision_recall(y_test, y_proba)"
      ],
      "execution_count": 148,
      "outputs": [
        {
          "output_type": "execute_result",
          "data": {
            "text/plain": [
              "<matplotlib.axes._subplots.AxesSubplot at 0x7f6f65417590>"
            ]
          },
          "metadata": {},
          "execution_count": 148
        },
        {
          "output_type": "display_data",
          "data": {
            "image/png": "[encoded data removed]",
            "text/plain": [
              "<Figure size 432x288 with 1 Axes>"
            ]
          },
          "metadata": {
            "needs_background": "light"
          }
        }
      ]
    },
    {
      "cell_type": "markdown",
      "metadata": {
        "id": "nwt-mqMZMMb2"
      },
      "source": [
        "It is clear from above confusion matrix that we are getting best accuracy using Random Forest Classifier"
      ]
    },
    {
      "cell_type": "markdown",
      "metadata": {
        "id": "XvCa9oAvF0qL"
      },
      "source": [
        "**Using Deep Learning**"
      ]
    },
    {
      "cell_type": "code",
      "metadata": {
        "id": "DGntLnf2v1_n"
      },
      "source": [
        "X_train, X_test, y_train, y_test = train_test_split(X, y, test_size=0.2, random_state=42, stratify=y)"
      ],
      "execution_count": 89,
      "outputs": []
    },
    {
      "cell_type": "code",
      "metadata": {
        "colab": {
          "base_uri": "https://localhost:8080/"
        },
        "id": "NlmXy3U3v5ul",
        "outputId": "baa58300-8551-41d7-f718-9202b0af53bf"
      },
      "source": [
        "y_train.value_counts()"
      ],
      "execution_count": 90,
      "outputs": [
        {
          "output_type": "execute_result",
          "data": {
            "text/plain": [
              "0    227451\n",
              "1       394\n",
              "Name: Class, dtype: int64"
            ]
          },
          "metadata": {},
          "execution_count": 90
        }
      ]
    },
    {
      "cell_type": "code",
      "metadata": {
        "id": "vO5yPISCwAiU"
      },
      "source": [
        "n_inputs=len(X.columns)"
      ],
      "execution_count": 91,
      "outputs": []
    },
    {
      "cell_type": "code",
      "metadata": {
        "id": "ShGrdfLC1QR3"
      },
      "source": [
        "from tensorflow.keras.callbacks import ModelCheckpoint,EarlyStopping\n",
        "\n",
        "checkpointer = ModelCheckpoint('fraud.hdf5', verbose=1, save_best_only=True)\n",
        "earlystopper = EarlyStopping(monitor='val_loss', patience=5, verbose=1)"
      ],
      "execution_count": 92,
      "outputs": []
    },
    {
      "cell_type": "code",
      "metadata": {
        "id": "koI8Xm-iwI2s"
      },
      "source": [
        "# define model\n",
        "model = Sequential()\n",
        "# define first hidden layer and visible layer\n",
        "model.add(Dense(50, input_dim=n_inputs, activation='relu', kernel_initializer='he_uniform'))\n",
        "# define output layer\n",
        "model.add(Dense(1, activation='sigmoid'))\n",
        "# define loss and optimizer\n",
        "model.compile(loss='binary_crossentropy', optimizer='adam', metrics='acc')"
      ],
      "execution_count": 93,
      "outputs": []
    },
    {
      "cell_type": "code",
      "metadata": {
        "id": "wEvlSQw9F95-"
      },
      "source": [
        "from sklearn.utils.class_weight import compute_class_weight\n",
        "\n",
        "class_weights = compute_class_weight(class_weight='balanced', classes=np.unique(y_train), y=y_train)\n",
        "class_weight_dict = dict(enumerate(class_weights))"
      ],
      "execution_count": 94,
      "outputs": []
    },
    {
      "cell_type": "code",
      "metadata": {
        "colab": {
          "base_uri": "https://localhost:8080/"
        },
        "id": "tDP7HBldHksz",
        "outputId": "02129b99-7d26-4824-e8f7-bd2232733c4e"
      },
      "source": [
        "class_weight_dict"
      ],
      "execution_count": 95,
      "outputs": [
        {
          "output_type": "execute_result",
          "data": {
            "text/plain": [
              "{0: 0.5008661206149896, 1: 289.14340101522845}"
            ]
          },
          "metadata": {},
          "execution_count": 95
        }
      ]
    },
    {
      "cell_type": "code",
      "metadata": {
        "colab": {
          "base_uri": "https://localhost:8080/"
        },
        "id": "RFEPhrMOwuHp",
        "outputId": "47a14dad-f21d-473e-b4fd-2d3eefb8285d"
      },
      "source": [
        "model.fit(X_train,y_train,epochs=30,class_weight=class_weight_dict,validation_data = (X_test, y_test),callbacks=[checkpointer, earlystopper],workers=4)"
      ],
      "execution_count": 96,
      "outputs": [
        {
          "output_type": "stream",
          "name": "stdout",
          "text": [
            "Epoch 1/30\n",
            "7120/7121 [============================>.] - ETA: 0s - loss: 0.2857 - acc: 0.9656\n",
            "Epoch 00001: val_loss improved from inf to 0.13271, saving model to fraud.hdf5\n",
            "7121/7121 [==============================] - 33s 5ms/step - loss: 0.2857 - acc: 0.9656 - val_loss: 0.1327 - val_acc: 0.9632\n",
            "Epoch 2/30\n",
            "7113/7121 [============================>.] - ETA: 0s - loss: 0.1467 - acc: 0.9696\n",
            "Epoch 00002: val_loss improved from 0.13271 to 0.06684, saving model to fraud.hdf5\n",
            "7121/7121 [==============================] - 30s 4ms/step - loss: 0.1466 - acc: 0.9696 - val_loss: 0.0668 - val_acc: 0.9875\n",
            "Epoch 3/30\n",
            "7111/7121 [============================>.] - ETA: 0s - loss: 0.1277 - acc: 0.9741\n",
            "Epoch 00003: val_loss did not improve from 0.06684\n",
            "7121/7121 [==============================] - 30s 4ms/step - loss: 0.1276 - acc: 0.9741 - val_loss: 0.0787 - val_acc: 0.9795\n",
            "Epoch 4/30\n",
            "7116/7121 [============================>.] - ETA: 0s - loss: 0.1175 - acc: 0.9725\n",
            "Epoch 00004: val_loss did not improve from 0.06684\n",
            "7121/7121 [==============================] - 30s 4ms/step - loss: 0.1174 - acc: 0.9725 - val_loss: 0.0980 - val_acc: 0.9746\n",
            "Epoch 5/30\n",
            "7112/7121 [============================>.] - ETA: 0s - loss: 0.0989 - acc: 0.9766\n",
            "Epoch 00005: val_loss improved from 0.06684 to 0.06462, saving model to fraud.hdf5\n",
            "7121/7121 [==============================] - 30s 4ms/step - loss: 0.0989 - acc: 0.9766 - val_loss: 0.0646 - val_acc: 0.9836\n",
            "Epoch 6/30\n",
            "7115/7121 [============================>.] - ETA: 0s - loss: 0.0937 - acc: 0.9778\n",
            "Epoch 00006: val_loss improved from 0.06462 to 0.05539, saving model to fraud.hdf5\n",
            "7121/7121 [==============================] - 31s 4ms/step - loss: 0.0936 - acc: 0.9778 - val_loss: 0.0554 - val_acc: 0.9865\n",
            "Epoch 7/30\n",
            "7118/7121 [============================>.] - ETA: 0s - loss: 0.0895 - acc: 0.9788\n",
            "Epoch 00007: val_loss did not improve from 0.05539\n",
            "7121/7121 [==============================] - 31s 4ms/step - loss: 0.0895 - acc: 0.9788 - val_loss: 0.0577 - val_acc: 0.9829\n",
            "Epoch 8/30\n",
            "7121/7121 [==============================] - ETA: 0s - loss: 0.0758 - acc: 0.9791\n",
            "Epoch 00008: val_loss did not improve from 0.05539\n",
            "7121/7121 [==============================] - 32s 5ms/step - loss: 0.0758 - acc: 0.9791 - val_loss: 0.1848 - val_acc: 0.9472\n",
            "Epoch 9/30\n",
            "7117/7121 [============================>.] - ETA: 0s - loss: 0.0636 - acc: 0.9808\n",
            "Epoch 00009: val_loss did not improve from 0.05539\n",
            "7121/7121 [==============================] - 30s 4ms/step - loss: 0.0636 - acc: 0.9808 - val_loss: 0.1030 - val_acc: 0.9669\n",
            "Epoch 10/30\n",
            "7118/7121 [============================>.] - ETA: 0s - loss: 0.0767 - acc: 0.9787\n",
            "Epoch 00010: val_loss improved from 0.05539 to 0.04798, saving model to fraud.hdf5\n",
            "7121/7121 [==============================] - 32s 4ms/step - loss: 0.0767 - acc: 0.9787 - val_loss: 0.0480 - val_acc: 0.9858\n",
            "Epoch 11/30\n",
            "7109/7121 [============================>.] - ETA: 0s - loss: 0.0750 - acc: 0.9781\n",
            "Epoch 00011: val_loss did not improve from 0.04798\n",
            "7121/7121 [==============================] - 32s 5ms/step - loss: 0.0751 - acc: 0.9781 - val_loss: 0.2175 - val_acc: 0.9479\n",
            "Epoch 12/30\n",
            "7116/7121 [============================>.] - ETA: 0s - loss: 0.0673 - acc: 0.9777\n",
            "Epoch 00012: val_loss did not improve from 0.04798\n",
            "7121/7121 [==============================] - 33s 5ms/step - loss: 0.0672 - acc: 0.9777 - val_loss: 0.0744 - val_acc: 0.9795\n",
            "Epoch 13/30\n",
            "7120/7121 [============================>.] - ETA: 0s - loss: 0.0538 - acc: 0.9836\n",
            "Epoch 00013: val_loss did not improve from 0.04798\n",
            "7121/7121 [==============================] - 31s 4ms/step - loss: 0.0538 - acc: 0.9836 - val_loss: 0.0755 - val_acc: 0.9773\n",
            "Epoch 14/30\n",
            "7118/7121 [============================>.] - ETA: 0s - loss: 0.0716 - acc: 0.9793\n",
            "Epoch 00014: val_loss did not improve from 0.04798\n",
            "7121/7121 [==============================] - 31s 4ms/step - loss: 0.0716 - acc: 0.9793 - val_loss: 0.1113 - val_acc: 0.9648\n",
            "Epoch 15/30\n",
            "7115/7121 [============================>.] - ETA: 0s - loss: 0.0493 - acc: 0.9833\n",
            "Epoch 00015: val_loss did not improve from 0.04798\n",
            "7121/7121 [==============================] - 32s 5ms/step - loss: 0.0493 - acc: 0.9833 - val_loss: 0.0645 - val_acc: 0.9833\n",
            "Epoch 00015: early stopping\n"
          ]
        },
        {
          "output_type": "execute_result",
          "data": {
            "text/plain": [
              "<keras.callbacks.History at 0x7f6f676b5450>"
            ]
          },
          "metadata": {},
          "execution_count": 96
        }
      ]
    },
    {
      "cell_type": "code",
      "metadata": {
        "id": "R0ubCIud2yKM"
      },
      "source": [
        "model.load_weights('fraud.hdf5')"
      ],
      "execution_count": 97,
      "outputs": []
    },
    {
      "cell_type": "code",
      "metadata": {
        "id": "hzbCC8qtxhC6"
      },
      "source": [
        "y_proba=model.predict(X_test)"
      ],
      "execution_count": 119,
      "outputs": []
    },
    {
      "cell_type": "code",
      "metadata": {
        "id": "tBJpWDfKKPxs"
      },
      "source": [
        "y_pred = (y_proba > 0.5)"
      ],
      "execution_count": 120,
      "outputs": []
    },
    {
      "cell_type": "code",
      "metadata": {
        "id": "po206YFe0hL9",
        "colab": {
          "base_uri": "https://localhost:8080/"
        },
        "outputId": "91f23136-517c-4f94-9f7c-844456cdb613"
      },
      "source": [
        "print(\"Accuracy Score for Neural Network is {0:.2f} %\".format(accuracy_score(y_test, y_pred)*100))"
      ],
      "execution_count": 101,
      "outputs": [
        {
          "output_type": "stream",
          "name": "stdout",
          "text": [
            "Accuracy Score for Neural Network is 98.58 %\n"
          ]
        }
      ]
    },
    {
      "cell_type": "code",
      "metadata": {
        "colab": {
          "base_uri": "https://localhost:8080/"
        },
        "id": "ZX2bT_cdKORs",
        "outputId": "30bd9ed9-233c-4043-a0c9-01fc30563e82"
      },
      "source": [
        "print(classification_report(y_test, y_pred, target_names=labels))"
      ],
      "execution_count": 102,
      "outputs": [
        {
          "output_type": "stream",
          "name": "stdout",
          "text": [
            "              precision    recall  f1-score   support\n",
            "\n",
            "   Not Fraud       1.00      0.99      0.99     56864\n",
            "       Fraud       0.10      0.89      0.18        98\n",
            "\n",
            "    accuracy                           0.99     56962\n",
            "   macro avg       0.55      0.94      0.59     56962\n",
            "weighted avg       1.00      0.99      0.99     56962\n",
            "\n"
          ]
        }
      ]
    },
    {
      "cell_type": "code",
      "metadata": {
        "colab": {
          "base_uri": "https://localhost:8080/",
          "height": 283
        },
        "id": "axd2XFQSKpTr",
        "outputId": "5fbc6bc0-37d4-457a-ebaa-e9b0aefc3c3a"
      },
      "source": [
        "cf3 = confusion_matrix(y_test, y_pred)\n",
        "sns.heatmap(cf2,annot=True,fmt='d')"
      ],
      "execution_count": 103,
      "outputs": [
        {
          "output_type": "execute_result",
          "data": {
            "text/plain": [
              "<matplotlib.axes._subplots.AxesSubplot at 0x7f6f65d71b50>"
            ]
          },
          "metadata": {},
          "execution_count": 103
        },
        {
          "output_type": "display_data",
          "data": {
            "image/png": "[encoded data removed]",
            "text/plain": [
              "<Figure size 432x288 with 2 Axes>"
            ]
          },
          "metadata": {
            "needs_background": "light"
          }
        }
      ]
    },
    {
      "cell_type": "code",
      "metadata": {
        "id": "Jxmm66jWUEY2"
      },
      "source": [
        "new_proba = []\n",
        "for prob in y_proba:\n",
        "    if prob[0]>0.5:\n",
        "        new_proba.append([1-prob[0],prob[0]])\n",
        "    else:\n",
        "        new_proba.append([prob[0],1-prob[0]])"
      ],
      "execution_count": 130,
      "outputs": []
    },
    {
      "cell_type": "code",
      "metadata": {
        "colab": {
          "base_uri": "https://localhost:8080/",
          "height": 313
        },
        "id": "pOdpIyZM0jB3",
        "outputId": "577c370f-5083-4aec-a7e3-9610f5453147"
      },
      "source": [
        "skplt.metrics.plot_precision_recall(y_test, new_proba)"
      ],
      "execution_count": 131,
      "outputs": [
        {
          "output_type": "execute_result",
          "data": {
            "text/plain": [
              "<matplotlib.axes._subplots.AxesSubplot at 0x7f6fe77ebd50>"
            ]
          },
          "metadata": {},
          "execution_count": 131
        },
        {
          "output_type": "display_data",
          "data": {
            "image/png": "[encoded data removed]",
            "text/plain": [
              "<Figure size 432x288 with 1 Axes>"
            ]
          },
          "metadata": {
            "needs_background": "light"
          }
        }
      ]
    },
    {
      "cell_type": "markdown",
      "metadata": {
        "id": "zrBpcLvXWDys"
      },
      "source": [
        "**Technique 2:** Creating synthetic points for imbalanced class using SMOTE and then training on resampled dataset."
      ]
    },
    {
      "cell_type": "code",
      "metadata": {
        "id": "qbW5cggAWDWr"
      },
      "source": [
        "X_smote, y_smote = SMOTE(sampling_strategy='minority').fit_resample(X, y)"
      ],
      "execution_count": 149,
      "outputs": []
    },
    {
      "cell_type": "code",
      "metadata": {
        "colab": {
          "base_uri": "https://localhost:8080/"
        },
        "id": "xyP6lG0RWUBD",
        "outputId": "04ed0225-9b80-48d2-c72d-bf73a978bb8b"
      },
      "source": [
        "print(\"SMOTE data distribution: {}\".format(Counter(y_smote)))"
      ],
      "execution_count": 150,
      "outputs": [
        {
          "output_type": "stream",
          "name": "stdout",
          "text": [
            "SMOTE data distribution: Counter({0: 284315, 1: 284315})\n"
          ]
        }
      ]
    },
    {
      "cell_type": "code",
      "metadata": {
        "id": "h1LTFm_SWXy0"
      },
      "source": [
        "X_train, X_test, y_train, y_test = train_test_split(X_smote, y_smote, test_size=0.2, random_state=42, stratify=y_smote)"
      ],
      "execution_count": 191,
      "outputs": []
    },
    {
      "cell_type": "code",
      "metadata": {
        "id": "stzK4AF-Wvy1"
      },
      "source": [
        "estimators = {'lr':LogisticRegression(class_weight=\"balanced\",n_jobs=-1),\n",
        "              'rf' : RandomForestClassifier(class_weight=\"balanced\",n_jobs=-1)}"
      ],
      "execution_count": 192,
      "outputs": []
    },
    {
      "cell_type": "code",
      "metadata": {
        "id": "5Qb2jra0Wprk"
      },
      "source": [
        "acc = []\n",
        "est = []\n",
        "for estimator in estimators.values():\n",
        "  estimator.fit(X_train, y_train) \n",
        "  y_pred = estimator.predict(X_test)\n",
        "  est.append(estimator)\n",
        "  acc.append(accuracy_score(y_test,y_pred))"
      ],
      "execution_count": 193,
      "outputs": []
    },
    {
      "cell_type": "code",
      "metadata": {
        "colab": {
          "base_uri": "https://localhost:8080/"
        },
        "id": "bCLvxdWyYjxp",
        "outputId": "4f909d2e-8c38-4c18-a128-6213b3043200"
      },
      "source": [
        "acc"
      ],
      "execution_count": 194,
      "outputs": [
        {
          "output_type": "execute_result",
          "data": {
            "text/plain": [
              "[0.9452895555985439, 0.999903276295658]"
            ]
          },
          "metadata": {},
          "execution_count": 194
        }
      ]
    },
    {
      "cell_type": "code",
      "metadata": {
        "colab": {
          "base_uri": "https://localhost:8080/"
        },
        "id": "yklSMG42YCTq",
        "outputId": "a8cd6f81-bb57-4eda-89fe-19faaa8bef3f"
      },
      "source": [
        "est[np.argmax(acc)]"
      ],
      "execution_count": 195,
      "outputs": [
        {
          "output_type": "execute_result",
          "data": {
            "text/plain": [
              "RandomForestClassifier(class_weight='balanced', n_jobs=-1)"
            ]
          },
          "metadata": {},
          "execution_count": 195
        }
      ]
    },
    {
      "cell_type": "markdown",
      "metadata": {
        "id": "2YmbF4voYWIX"
      },
      "source": [
        "Random Forest is having more accuracy than Logistic Regression"
      ]
    },
    {
      "cell_type": "code",
      "metadata": {
        "id": "8nK0Z5hjYw9d"
      },
      "source": [
        "y_pred = est[np.argmax(acc)].predict(X_test)\n",
        "y_proba = est[np.argmax(acc)].predict_proba(X_test)"
      ],
      "execution_count": 196,
      "outputs": []
    },
    {
      "cell_type": "code",
      "metadata": {
        "colab": {
          "base_uri": "https://localhost:8080/"
        },
        "id": "1cfgA-PrZJrG",
        "outputId": "15aa4952-48ad-442c-f8d4-80fedc59a2fb"
      },
      "source": [
        "print(\"Accuracy Score for Random Forest is {0:.2f} %\".format(accuracy_score(y_test, y_pred)*100))"
      ],
      "execution_count": 197,
      "outputs": [
        {
          "output_type": "stream",
          "name": "stdout",
          "text": [
            "Accuracy Score for Random Forest is 99.99 %\n"
          ]
        }
      ]
    },
    {
      "cell_type": "code",
      "metadata": {
        "colab": {
          "base_uri": "https://localhost:8080/"
        },
        "id": "fZe0Y5gtYr34",
        "outputId": "71fbbc68-5bd6-483c-aa93-74c0a65250fb"
      },
      "source": [
        "print(classification_report(y_test, y_pred, target_names=labels))"
      ],
      "execution_count": 198,
      "outputs": [
        {
          "output_type": "stream",
          "name": "stdout",
          "text": [
            "              precision    recall  f1-score   support\n",
            "\n",
            "   Not Fraud       1.00      1.00      1.00     56863\n",
            "       Fraud       1.00      1.00      1.00     56863\n",
            "\n",
            "    accuracy                           1.00    113726\n",
            "   macro avg       1.00      1.00      1.00    113726\n",
            "weighted avg       1.00      1.00      1.00    113726\n",
            "\n"
          ]
        }
      ]
    },
    {
      "cell_type": "code",
      "metadata": {
        "colab": {
          "base_uri": "https://localhost:8080/",
          "height": 283
        },
        "id": "YOeUJAexYGBg",
        "outputId": "c61dba85-f1f9-483d-cd92-12619e7a1581"
      },
      "source": [
        "sns.heatmap(confusion_matrix(y_test,y_pred),annot=True,fmt='d')"
      ],
      "execution_count": 199,
      "outputs": [
        {
          "output_type": "execute_result",
          "data": {
            "text/plain": [
              "<matplotlib.axes._subplots.AxesSubplot at 0x7f6f6311a110>"
            ]
          },
          "metadata": {},
          "execution_count": 199
        },
        {
          "output_type": "display_data",
          "data": {
            "image/png": "[encoded data removed]",
            "text/plain": [
              "<Figure size 432x288 with 2 Axes>"
            ]
          },
          "metadata": {
            "needs_background": "light"
          }
        }
      ]
    },
    {
      "cell_type": "code",
      "metadata": {
        "colab": {
          "base_uri": "https://localhost:8080/",
          "height": 313
        },
        "id": "2EDuxIJtY_L3",
        "outputId": "1ce3545a-d612-43b8-b6f7-eb8af98a7d0d"
      },
      "source": [
        "skplt.metrics.plot_precision_recall(y_test, y_proba)"
      ],
      "execution_count": 200,
      "outputs": [
        {
          "output_type": "execute_result",
          "data": {
            "text/plain": [
              "<matplotlib.axes._subplots.AxesSubplot at 0x7f6f6c395850>"
            ]
          },
          "metadata": {},
          "execution_count": 200
        },
        {
          "output_type": "display_data",
          "data": {
            "image/png": "[encoded data removed]",
            "text/plain": [
              "<Figure size 432x288 with 1 Axes>"
            ]
          },
          "metadata": {
            "needs_background": "light"
          }
        }
      ]
    },
    {
      "cell_type": "code",
      "metadata": {
        "id": "yiZmXHJUZSgA"
      },
      "source": [
        "checkpointer = ModelCheckpoint('fraud.hdf5', verbose=1, save_best_only=True)\n",
        "earlystopper = EarlyStopping(monitor='val_loss', patience=5, verbose=1)"
      ],
      "execution_count": 201,
      "outputs": []
    },
    {
      "cell_type": "code",
      "metadata": {
        "id": "36T09HOMZYXT"
      },
      "source": [
        "# define model\n",
        "model = Sequential()\n",
        "# define first hidden layer and visible layer\n",
        "model.add(Dense(50, input_dim=n_inputs, activation='relu', kernel_initializer='he_uniform'))\n",
        "# define output layer\n",
        "model.add(Dense(1, activation='sigmoid'))\n",
        "# define loss and optimizer\n",
        "model.compile(loss='binary_crossentropy', optimizer='adam', metrics='acc')"
      ],
      "execution_count": 202,
      "outputs": []
    },
    {
      "cell_type": "code",
      "metadata": {
        "colab": {
          "base_uri": "https://localhost:8080/"
        },
        "id": "SFJWVhLkZddw",
        "outputId": "d9fd6bc0-95c5-409f-a67d-ce417dae12e4"
      },
      "source": [
        "model.fit(X_train,y_train,epochs=30,validation_data = (X_test, y_test),callbacks=[checkpointer, earlystopper],workers=4)"
      ],
      "execution_count": 203,
      "outputs": [
        {
          "output_type": "stream",
          "name": "stdout",
          "text": [
            "Epoch 1/30\n",
            "14214/14216 [============================>.] - ETA: 0s - loss: 0.0435 - acc: 0.9854\n",
            "Epoch 00001: val_loss improved from inf to 0.01551, saving model to fraud.hdf5\n",
            "14216/14216 [==============================] - 57s 4ms/step - loss: 0.0435 - acc: 0.9854 - val_loss: 0.0155 - val_acc: 0.9968\n",
            "Epoch 2/30\n",
            "14208/14216 [============================>.] - ETA: 0s - loss: 0.0110 - acc: 0.9975\n",
            "Epoch 00002: val_loss improved from 0.01551 to 0.00954, saving model to fraud.hdf5\n",
            "14216/14216 [==============================] - 60s 4ms/step - loss: 0.0110 - acc: 0.9975 - val_loss: 0.0095 - val_acc: 0.9978\n",
            "Epoch 3/30\n",
            "14209/14216 [============================>.] - ETA: 0s - loss: 0.0068 - acc: 0.9985\n",
            "Epoch 00003: val_loss improved from 0.00954 to 0.00678, saving model to fraud.hdf5\n",
            "14216/14216 [==============================] - 57s 4ms/step - loss: 0.0068 - acc: 0.9985 - val_loss: 0.0068 - val_acc: 0.9990\n",
            "Epoch 4/30\n",
            "14208/14216 [============================>.] - ETA: 0s - loss: 0.0053 - acc: 0.9989\n",
            "Epoch 00004: val_loss did not improve from 0.00678\n",
            "14216/14216 [==============================] - 60s 4ms/step - loss: 0.0053 - acc: 0.9989 - val_loss: 0.0124 - val_acc: 0.9983\n",
            "Epoch 5/30\n",
            "14205/14216 [============================>.] - ETA: 0s - loss: 0.0045 - acc: 0.9991\n",
            "Epoch 00005: val_loss improved from 0.00678 to 0.00517, saving model to fraud.hdf5\n",
            "14216/14216 [==============================] - 60s 4ms/step - loss: 0.0045 - acc: 0.9991 - val_loss: 0.0052 - val_acc: 0.9991\n",
            "Epoch 6/30\n",
            "14215/14216 [============================>.] - ETA: 0s - loss: 0.0038 - acc: 0.9992\n",
            "Epoch 00006: val_loss improved from 0.00517 to 0.00378, saving model to fraud.hdf5\n",
            "14216/14216 [==============================] - 57s 4ms/step - loss: 0.0038 - acc: 0.9992 - val_loss: 0.0038 - val_acc: 0.9994\n",
            "Epoch 7/30\n",
            "14214/14216 [============================>.] - ETA: 0s - loss: 0.0032 - acc: 0.9993\n",
            "Epoch 00007: val_loss did not improve from 0.00378\n",
            "14216/14216 [==============================] - 57s 4ms/step - loss: 0.0032 - acc: 0.9993 - val_loss: 0.0047 - val_acc: 0.9993\n",
            "Epoch 8/30\n",
            "14204/14216 [============================>.] - ETA: 0s - loss: 0.0029 - acc: 0.9994\n",
            "Epoch 00008: val_loss did not improve from 0.00378\n",
            "14216/14216 [==============================] - 57s 4ms/step - loss: 0.0029 - acc: 0.9994 - val_loss: 0.0052 - val_acc: 0.9994\n",
            "Epoch 9/30\n",
            "14214/14216 [============================>.] - ETA: 0s - loss: 0.0027 - acc: 0.9995\n",
            "Epoch 00009: val_loss did not improve from 0.00378\n",
            "14216/14216 [==============================] - 60s 4ms/step - loss: 0.0027 - acc: 0.9995 - val_loss: 0.0038 - val_acc: 0.9995\n",
            "Epoch 10/30\n",
            "14204/14216 [============================>.] - ETA: 0s - loss: 0.0026 - acc: 0.9995\n",
            "Epoch 00010: val_loss improved from 0.00378 to 0.00317, saving model to fraud.hdf5\n",
            "14216/14216 [==============================] - 60s 4ms/step - loss: 0.0026 - acc: 0.9995 - val_loss: 0.0032 - val_acc: 0.9995\n",
            "Epoch 11/30\n",
            "14213/14216 [============================>.] - ETA: 0s - loss: 0.0023 - acc: 0.9995\n",
            "Epoch 00011: val_loss did not improve from 0.00317\n",
            "14216/14216 [==============================] - 56s 4ms/step - loss: 0.0023 - acc: 0.9995 - val_loss: 0.0036 - val_acc: 0.9996\n",
            "Epoch 12/30\n",
            "14209/14216 [============================>.] - ETA: 0s - loss: 0.0025 - acc: 0.9996\n",
            "Epoch 00012: val_loss improved from 0.00317 to 0.00286, saving model to fraud.hdf5\n",
            "14216/14216 [==============================] - 56s 4ms/step - loss: 0.0025 - acc: 0.9996 - val_loss: 0.0029 - val_acc: 0.9996\n",
            "Epoch 13/30\n",
            "14209/14216 [============================>.] - ETA: 0s - loss: 0.0019 - acc: 0.9996\n",
            "Epoch 00013: val_loss did not improve from 0.00286\n",
            "14216/14216 [==============================] - 57s 4ms/step - loss: 0.0019 - acc: 0.9996 - val_loss: 0.0050 - val_acc: 0.9995\n",
            "Epoch 14/30\n",
            "14207/14216 [============================>.] - ETA: 0s - loss: 0.0022 - acc: 0.9996\n",
            "Epoch 00014: val_loss did not improve from 0.00286\n",
            "14216/14216 [==============================] - 62s 4ms/step - loss: 0.0021 - acc: 0.9996 - val_loss: 0.0041 - val_acc: 0.9994\n",
            "Epoch 15/30\n",
            "14214/14216 [============================>.] - ETA: 0s - loss: 0.0021 - acc: 0.9996\n",
            "Epoch 00015: val_loss did not improve from 0.00286\n",
            "14216/14216 [==============================] - 59s 4ms/step - loss: 0.0021 - acc: 0.9996 - val_loss: 0.0040 - val_acc: 0.9996\n",
            "Epoch 16/30\n",
            "14208/14216 [============================>.] - ETA: 0s - loss: 0.0022 - acc: 0.9996Epoch 17/30\n",
            "14213/14216 [============================>.] - ETA: 0s - loss: 0.0018 - acc: 0.9997\n",
            "Epoch 00017: val_loss did not improve from 0.00286\n",
            "14216/14216 [==============================] - 62s 4ms/step - loss: 0.0018 - acc: 0.9997 - val_loss: 0.0045 - val_acc: 0.9996\n",
            "Epoch 00017: early stopping\n"
          ]
        },
        {
          "output_type": "execute_result",
          "data": {
            "text/plain": [
              "<keras.callbacks.History at 0x7f6f6c2e5b10>"
            ]
          },
          "metadata": {},
          "execution_count": 203
        }
      ]
    },
    {
      "cell_type": "code",
      "metadata": {
        "id": "MotgAR3zZipY"
      },
      "source": [
        "model.load_weights('fraud.hdf5')"
      ],
      "execution_count": 204,
      "outputs": []
    },
    {
      "cell_type": "code",
      "metadata": {
        "id": "IcmOsqDubk9A"
      },
      "source": [
        "y_proba = model.predict(X_test)"
      ],
      "execution_count": 205,
      "outputs": []
    },
    {
      "cell_type": "code",
      "metadata": {
        "id": "O5HT70TTbn8e"
      },
      "source": [
        "y_pred = (y_proba>0.5)"
      ],
      "execution_count": 206,
      "outputs": []
    },
    {
      "cell_type": "code",
      "metadata": {
        "colab": {
          "base_uri": "https://localhost:8080/"
        },
        "id": "icNUwEaSbq5x",
        "outputId": "1966b089-d3be-41c5-d82b-7e4b3470fa93"
      },
      "source": [
        "print(\"Accuracy Score for Neural Network is {0:.2f} %\".format(accuracy_score(y_test, y_pred)*100))"
      ],
      "execution_count": 207,
      "outputs": [
        {
          "output_type": "stream",
          "name": "stdout",
          "text": [
            "Accuracy Score for Neural Network is 99.96 %\n"
          ]
        }
      ]
    },
    {
      "cell_type": "code",
      "metadata": {
        "colab": {
          "base_uri": "https://localhost:8080/"
        },
        "id": "7IR8LuJzbws7",
        "outputId": "2da20d12-d617-4336-8f45-091109e0d6aa"
      },
      "source": [
        "print(classification_report(y_test, y_pred, target_names=labels))"
      ],
      "execution_count": 208,
      "outputs": [
        {
          "output_type": "stream",
          "name": "stdout",
          "text": [
            "              precision    recall  f1-score   support\n",
            "\n",
            "   Not Fraud       1.00      1.00      1.00     56863\n",
            "       Fraud       1.00      1.00      1.00     56863\n",
            "\n",
            "    accuracy                           1.00    113726\n",
            "   macro avg       1.00      1.00      1.00    113726\n",
            "weighted avg       1.00      1.00      1.00    113726\n",
            "\n"
          ]
        }
      ]
    },
    {
      "cell_type": "code",
      "metadata": {
        "colab": {
          "base_uri": "https://localhost:8080/",
          "height": 283
        },
        "id": "TMDmnJMZbylU",
        "outputId": "1502e114-bc9c-4372-c936-9451ae9e1e09"
      },
      "source": [
        "sns.heatmap(confusion_matrix(y_test,y_pred),annot=True,fmt='d')"
      ],
      "execution_count": 209,
      "outputs": [
        {
          "output_type": "execute_result",
          "data": {
            "text/plain": [
              "<matplotlib.axes._subplots.AxesSubplot at 0x7f6f6c0d0e10>"
            ]
          },
          "metadata": {},
          "execution_count": 209
        },
        {
          "output_type": "display_data",
          "data": {
            "image/png": "[encoded data removed]",
            "text/plain": [
              "<Figure size 432x288 with 2 Axes>"
            ]
          },
          "metadata": {
            "needs_background": "light"
          }
        }
      ]
    },
    {
      "cell_type": "code",
      "metadata": {
        "id": "c6L8Ga6hbg5i"
      },
      "source": [
        "new_proba = []\n",
        "for prob in y_proba:\n",
        "    if prob[0]>0.5:\n",
        "        new_proba.append([1-prob[0],prob[0]])\n",
        "    else:\n",
        "        new_proba.append([prob[0],1-prob[0]])"
      ],
      "execution_count": 210,
      "outputs": []
    },
    {
      "cell_type": "code",
      "metadata": {
        "colab": {
          "base_uri": "https://localhost:8080/",
          "height": 313
        },
        "id": "QIwk7grwb4VS",
        "outputId": "dc6cb084-51c2-4d2f-814b-0501f95bcfdc"
      },
      "source": [
        "skplt.metrics.plot_precision_recall(y_test, np.array(new_proba))"
      ],
      "execution_count": 211,
      "outputs": [
        {
          "output_type": "execute_result",
          "data": {
            "text/plain": [
              "<matplotlib.axes._subplots.AxesSubplot at 0x7f6fe786de50>"
            ]
          },
          "metadata": {},
          "execution_count": 211
        },
        {
          "output_type": "display_data",
          "data": {
            "image/png": "[encoded data removed]",
            "text/plain": [
              "<Figure size 432x288 with 1 Axes>"
            ]
          },
          "metadata": {
            "needs_background": "light"
          }
        }
      ]
    },
    {
      "cell_type": "markdown",
      "metadata": {
        "id": "J4xHGEvIcghD"
      },
      "source": [
        "# VERDICT:\n",
        "\n",
        "**Random Forest outperformed both Logistic Regression and Neural Networks for this dataset.**"
      ]
    }
  ]
}